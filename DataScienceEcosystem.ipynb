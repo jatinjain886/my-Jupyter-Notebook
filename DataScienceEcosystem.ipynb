{
 "cells": [
  {
   "cell_type": "markdown",
   "id": "1b593d31-d7be-4ceb-a5ff-78cade2580e3",
   "metadata": {},
   "source": [
    "#H1:Data Science Tools and Ecosystem"
   ]
  },
  {
   "cell_type": "markdown",
   "id": "332595b6-af48-4a53-bc9e-afd663c720b6",
   "metadata": {},
   "source": [
    "In this notebook, Data Science Tools and Ecosystem are summarized."
   ]
  },
  {
   "cell_type": "markdown",
   "id": "f3ca9b98-9bd5-472b-bb0a-a10f110da008",
   "metadata": {},
   "source": [
    "Some of the popular languages that Data Scientists use are:\n",
    "1. python\n",
    "2. R\n",
    "3. Scala"
   ]
  },
  {
   "cell_type": "markdown",
   "id": "29535085-a7a9-48e8-a049-c431cc12b3eb",
   "metadata": {},
   "source": [
    "Some of the commonly used libraries used by Data Scientists include:\n",
    "1. pandas\n",
    "2. numpy\n",
    "3. seaborn"
   ]
  },
  {
   "cell_type": "markdown",
   "id": "6bb73706-570c-4ec2-98ca-153a0f717b0a",
   "metadata": {},
   "source": [
    "|Data Science Tools |\n",
    "|------------------- |\n",
    "| Jupyter |\n",
    "|VS code  |\n",
    "| IBM watson studio |"
   ]
  },
  {
   "cell_type": "markdown",
   "id": "d3d97e30-12fa-4db3-bbaa-b7bcb8563db2",
   "metadata": {},
   "source": [
    "### Below are a few examples of evaluating arithmetic expressions in Python"
   ]
  },
  {
   "cell_type": "code",
   "execution_count": 1,
   "id": "d9b5d11d-423c-40b2-aa33-82f95cc4f7d6",
   "metadata": {},
   "outputs": [
    {
     "data": {
      "text/plain": [
       "17"
      ]
     },
     "execution_count": 1,
     "metadata": {},
     "output_type": "execute_result"
    }
   ],
   "source": [
    "# This a simple arithmetic expression to mutiply then add integers\n",
    "\n",
    "(3*4)+5"
   ]
  },
  {
   "cell_type": "code",
   "execution_count": 4,
   "id": "74a3d97f-e6de-412e-a8f0-88a0a68f140b",
   "metadata": {},
   "outputs": [
    {
     "data": {
      "text/plain": [
       "3.3333333333333335"
      ]
     },
     "execution_count": 4,
     "metadata": {},
     "output_type": "execute_result"
    }
   ],
   "source": [
    "# This will convert 200 minutes to hours by diving by 60\n",
    "\n",
    "200/60 "
   ]
  },
  {
   "cell_type": "markdown",
   "id": "a5ccdd00-e93b-42e9-84ae-27bb8303a3a9",
   "metadata": {},
   "source": [
    "**objectives:**\n",
    "* List popular languages for Data Science.\n",
    "\n",
    "* List popular libraries for Data Science.\n",
    "\n",
    "* List popular tools for Data Science.\n"
   ]
  },
  {
   "cell_type": "code",
   "execution_count": null,
   "id": "d2b08c2b-cc1f-4c3e-b7f3-81e2a3c580fa",
   "metadata": {},
   "outputs": [],
   "source": [
    "## Author\n",
    "\n",
    "Jatin Jain"
   ]
  }
 ],
 "metadata": {
  "kernelspec": {
   "display_name": "Python 3 (ipykernel)",
   "language": "python",
   "name": "python3"
  },
  "language_info": {
   "codemirror_mode": {
    "name": "ipython",
    "version": 3
   },
   "file_extension": ".py",
   "mimetype": "text/x-python",
   "name": "python",
   "nbconvert_exporter": "python",
   "pygments_lexer": "ipython3",
   "version": "3.12.4"
  }
 },
 "nbformat": 4,
 "nbformat_minor": 5
}
